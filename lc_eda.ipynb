{
 "cells": [
  {
   "cell_type": "code",
   "execution_count": 2,
   "id": "53ce80cd",
   "metadata": {
    "_cell_guid": "b1076dfc-b9ad-4769-8c92-a6c4dae69d19",
    "_uuid": "8f2839f25d086af736a60e9eeb907d3b93b6e0e5",
    "execution": {
     "iopub.execute_input": "2024-09-21T13:15:19.642807Z",
     "iopub.status.busy": "2024-09-21T13:15:19.642335Z",
     "iopub.status.idle": "2024-09-21T13:15:20.619701Z",
     "shell.execute_reply": "2024-09-21T13:15:20.618636Z"
    },
    "papermill": {
     "duration": 0.999526,
     "end_time": "2024-09-21T13:15:20.622487",
     "exception": false,
     "start_time": "2024-09-21T13:15:19.622961",
     "status": "completed"
    },
    "tags": []
   },
   "outputs": [],
   "source": [
    "import pandas as pd\n",
    "import numpy as np\n",
    "import matplotlib.pyplot as plt\n",
    "\n",
    "from pyspark.sql import SparkSession\n",
    "from pyspark.sql.functions import col, isnan, when, count, regexp_extract\n",
    "from pyspark.ml.feature import StringIndexer, OneHotEncoder\n",
    "from pyspark.ml.feature import VectorAssembler\n",
    "from pyspark.sql import DataFrame\n",
    "from pyspark.ml.feature import MinMaxScaler\n",
    "\n",
    "from pyspark.ml.evaluation import MulticlassClassificationEvaluator\n",
    "from pyspark.ml.classification import LogisticRegression\n",
    "from pyspark.ml.classification import  RandomForestClassifier\n",
    "from pyspark.ml.classification import MultilayerPerceptronClassifier\n",
    "\n",
    "import warnings\n",
    "warnings.simplefilter(action='ignore', category=FutureWarning)"
   ]
  },
  {
   "cell_type": "code",
   "execution_count": 3,
   "id": "60117459",
   "metadata": {
    "execution": {
     "iopub.execute_input": "2024-09-21T13:15:20.660402Z",
     "iopub.status.busy": "2024-09-21T13:15:20.659856Z",
     "iopub.status.idle": "2024-09-21T13:15:26.485390Z",
     "shell.execute_reply": "2024-09-21T13:15:26.484088Z"
    },
    "papermill": {
     "duration": 5.847317,
     "end_time": "2024-09-21T13:15:26.488191",
     "exception": false,
     "start_time": "2024-09-21T13:15:20.640874",
     "status": "completed"
    },
    "tags": []
   },
   "outputs": [
    {
     "name": "stderr",
     "output_type": "stream",
     "text": [
      "Setting default log level to \"WARN\".\n",
      "To adjust logging level use sc.setLogLevel(newLevel). For SparkR, use setLogLevel(newLevel).\n",
      "24/09/28 22:08:56 WARN NativeCodeLoader: Unable to load native-hadoop library for your platform... using builtin-java classes where applicable\n"
     ]
    }
   ],
   "source": [
    "spark = SparkSession.builder.appName(\"lending-club\").getOrCreate()"
   ]
  },
  {
   "cell_type": "markdown",
   "id": "ca860586",
   "metadata": {
    "papermill": {
     "duration": 0.017705,
     "end_time": "2024-09-21T13:15:26.523675",
     "exception": false,
     "start_time": "2024-09-21T13:15:26.505970",
     "status": "completed"
    },
    "tags": []
   },
   "source": [
    "# Functions"
   ]
  },
  {
   "cell_type": "code",
   "execution_count": 4,
   "id": "0981c235",
   "metadata": {
    "execution": {
     "iopub.execute_input": "2024-09-21T13:15:26.561622Z",
     "iopub.status.busy": "2024-09-21T13:15:26.560850Z",
     "iopub.status.idle": "2024-09-21T13:15:26.573728Z",
     "shell.execute_reply": "2024-09-21T13:15:26.572620Z"
    },
    "papermill": {
     "duration": 0.034519,
     "end_time": "2024-09-21T13:15:26.575974",
     "exception": false,
     "start_time": "2024-09-21T13:15:26.541455",
     "status": "completed"
    },
    "tags": []
   },
   "outputs": [
    {
     "name": "stderr",
     "output_type": "stream",
     "text": [
      "24/09/28 22:09:13 WARN GarbageCollectionMetrics: To enable non-built-in garbage collector(s) List(G1 Concurrent GC), users should configure it(them) to spark.eventLog.gcMetrics.youngGenerationGarbageCollectors or spark.eventLog.gcMetrics.oldGenerationGarbageCollectors\n"
     ]
    }
   ],
   "source": [
    "def one_hot_encode_column(df, input_col):\n",
    "    indexer = StringIndexer(inputCol=input_col, outputCol=input_col + '_indexed')\n",
    "    indexed_df = indexer.fit(df).transform(df)\n",
    "\n",
    "    encoder = OneHotEncoder(inputCol=input_col + '_indexed', outputCol=input_col + '_encoded')\n",
    "    encoded_df = encoder.fit(indexed_df).transform(indexed_df)\n",
    "\n",
    "    encoded_df = encoded_df.drop(input_col, input_col + '_indexed')\n",
    "\n",
    "    return encoded_df\n",
    "\n",
    "def scale_features(input_df: DataFrame, input_col: str, output_col: str) -> DataFrame:\n",
    "    \"\"\"\n",
    "    Scale the specified feature column using Min-Max Scaling.\n",
    "\n",
    "    Args:\n",
    "        input_df (DataFrame): The input DataFrame.\n",
    "        input_col (str): The name of the feature column to scale.\n",
    "        output_col (str): The name of the output scaled feature column.\n",
    "\n",
    "    Returns:\n",
    "        DataFrame: The DataFrame with the scaled feature column.\n",
    "    \"\"\"\n",
    "    scaler = MinMaxScaler(inputCol=input_col, outputCol=output_col)\n",
    "    scaler_model = scaler.fit(input_df)\n",
    "    scaled_df = scaler_model.transform(input_df)\n",
    "    return scaled_df\n",
    "\n",
    "def evaluate_model(model, model_name, train_data, validation_data, test_data):\n",
    "    model = model.fit(train_data)\n",
    "\n",
    "    predictions_train = model.transform(train_data)\n",
    "    predictions_validation = model.transform(validation_data)\n",
    "    predictions_test = model.transform(test_data)\n",
    "\n",
    "    evaluator_accuracy = MulticlassClassificationEvaluator(labelCol=\"target\", predictionCol=\"prediction\", metricName=\"accuracy\")\n",
    "    f1_evaluator = MulticlassClassificationEvaluator(metricName=\"weightedFMeasure\", labelCol=\"target\")\n",
    "\n",
    "    accuracy_train = evaluator_accuracy.evaluate(predictions_train)\n",
    "    f1_score_train = f1_evaluator.evaluate(predictions_train)\n",
    "\n",
    "    accuracy_validation = evaluator_accuracy.evaluate(predictions_validation)\n",
    "    f1_score_validation = f1_evaluator.evaluate(predictions_validation)\n",
    "\n",
    "    accuracy_test = evaluator_accuracy.evaluate(predictions_test)\n",
    "    f1_score_test = f1_evaluator.evaluate(predictions_test)\n",
    "\n",
    "    results_df = pd.DataFrame({\n",
    "    \"Model\": [model_name],\n",
    "    \"Accuracy (Train)\": [round(accuracy_train, 3)],\n",
    "    \"F1 Score (Train)\": [round(f1_score_train, 3)],\n",
    "    \"Accuracy (Validation)\": [round(accuracy_validation, 3)],\n",
    "    \"F1 Score (Validation)\": [round(f1_score_validation, 3)],\n",
    "    \"Accuracy (Test)\": [round(accuracy_test, 3)],\n",
    "    \"F1 Score (Test)\": [round(f1_score_test, 3)],\n",
    "    })\n",
    "\n",
    "    return results_df"
   ]
  },
  {
   "cell_type": "markdown",
   "id": "f71cad9a",
   "metadata": {
    "papermill": {
     "duration": 0.017617,
     "end_time": "2024-09-21T13:15:26.611778",
     "exception": false,
     "start_time": "2024-09-21T13:15:26.594161",
     "status": "completed"
    },
    "tags": []
   },
   "source": [
    "# Upload dataset"
   ]
  },
  {
   "cell_type": "code",
   "execution_count": 7,
   "id": "813be66d",
   "metadata": {
    "execution": {
     "iopub.execute_input": "2024-09-21T13:15:26.648691Z",
     "iopub.status.busy": "2024-09-21T13:15:26.648247Z",
     "iopub.status.idle": "2024-09-21T13:15:35.078669Z",
     "shell.execute_reply": "2024-09-21T13:15:35.077324Z"
    },
    "papermill": {
     "duration": 8.451906,
     "end_time": "2024-09-21T13:15:35.081186",
     "exception": false,
     "start_time": "2024-09-21T13:15:26.629280",
     "status": "completed"
    },
    "tags": []
   },
   "outputs": [
    {
     "data": {
      "text/html": [
       "<div>\n",
       "<style scoped>\n",
       "    .dataframe tbody tr th:only-of-type {\n",
       "        vertical-align: middle;\n",
       "    }\n",
       "\n",
       "    .dataframe tbody tr th {\n",
       "        vertical-align: top;\n",
       "    }\n",
       "\n",
       "    .dataframe thead th {\n",
       "        text-align: right;\n",
       "    }\n",
       "</style>\n",
       "<table border=\"1\" class=\"dataframe\">\n",
       "  <thead>\n",
       "    <tr style=\"text-align: right;\">\n",
       "      <th></th>\n",
       "      <th>id</th>\n",
       "      <th>purpose</th>\n",
       "      <th>term</th>\n",
       "      <th>verification_status</th>\n",
       "      <th>acc_now_delinq</th>\n",
       "      <th>addr_state</th>\n",
       "      <th>annual_inc</th>\n",
       "      <th>application_type</th>\n",
       "      <th>dti</th>\n",
       "      <th>grade</th>\n",
       "      <th>...</th>\n",
       "      <th>int_rate</th>\n",
       "      <th>loan_amnt</th>\n",
       "      <th>loan_status</th>\n",
       "      <th>tax_liens</th>\n",
       "      <th>delinq_amnt</th>\n",
       "      <th>policy_code</th>\n",
       "      <th>last_fico_range_high</th>\n",
       "      <th>last_fico_range_low</th>\n",
       "      <th>recoveries</th>\n",
       "      <th>collection_recovery_fee</th>\n",
       "    </tr>\n",
       "  </thead>\n",
       "  <tbody>\n",
       "    <tr>\n",
       "      <th>0</th>\n",
       "      <td>68407277</td>\n",
       "      <td>debt_consolidation</td>\n",
       "      <td>36 months</td>\n",
       "      <td>Not Verified</td>\n",
       "      <td>0.0</td>\n",
       "      <td>PA</td>\n",
       "      <td>55000.0</td>\n",
       "      <td>Individual</td>\n",
       "      <td>5.91</td>\n",
       "      <td>C</td>\n",
       "      <td>...</td>\n",
       "      <td>13.99</td>\n",
       "      <td>3600.0</td>\n",
       "      <td>Fully Paid</td>\n",
       "      <td>0.0</td>\n",
       "      <td>0.0</td>\n",
       "      <td>1.0</td>\n",
       "      <td>564.0</td>\n",
       "      <td>560.0</td>\n",
       "      <td>0.0</td>\n",
       "      <td>0.0</td>\n",
       "    </tr>\n",
       "    <tr>\n",
       "      <th>1</th>\n",
       "      <td>68355089</td>\n",
       "      <td>small_business</td>\n",
       "      <td>36 months</td>\n",
       "      <td>Not Verified</td>\n",
       "      <td>0.0</td>\n",
       "      <td>SD</td>\n",
       "      <td>65000.0</td>\n",
       "      <td>Individual</td>\n",
       "      <td>16.06</td>\n",
       "      <td>C</td>\n",
       "      <td>...</td>\n",
       "      <td>11.99</td>\n",
       "      <td>24700.0</td>\n",
       "      <td>Fully Paid</td>\n",
       "      <td>0.0</td>\n",
       "      <td>0.0</td>\n",
       "      <td>1.0</td>\n",
       "      <td>699.0</td>\n",
       "      <td>695.0</td>\n",
       "      <td>0.0</td>\n",
       "      <td>0.0</td>\n",
       "    </tr>\n",
       "    <tr>\n",
       "      <th>2</th>\n",
       "      <td>68341763</td>\n",
       "      <td>home_improvement</td>\n",
       "      <td>60 months</td>\n",
       "      <td>Not Verified</td>\n",
       "      <td>0.0</td>\n",
       "      <td>IL</td>\n",
       "      <td>63000.0</td>\n",
       "      <td>Joint App</td>\n",
       "      <td>10.78</td>\n",
       "      <td>B</td>\n",
       "      <td>...</td>\n",
       "      <td>10.78</td>\n",
       "      <td>20000.0</td>\n",
       "      <td>Fully Paid</td>\n",
       "      <td>0.0</td>\n",
       "      <td>0.0</td>\n",
       "      <td>1.0</td>\n",
       "      <td>704.0</td>\n",
       "      <td>700.0</td>\n",
       "      <td>0.0</td>\n",
       "      <td>0.0</td>\n",
       "    </tr>\n",
       "    <tr>\n",
       "      <th>3</th>\n",
       "      <td>66310712</td>\n",
       "      <td>debt_consolidation</td>\n",
       "      <td>60 months</td>\n",
       "      <td>Source Verified</td>\n",
       "      <td>0.0</td>\n",
       "      <td>NJ</td>\n",
       "      <td>110000.0</td>\n",
       "      <td>Individual</td>\n",
       "      <td>17.06</td>\n",
       "      <td>C</td>\n",
       "      <td>...</td>\n",
       "      <td>14.85</td>\n",
       "      <td>35000.0</td>\n",
       "      <td>Current</td>\n",
       "      <td>0.0</td>\n",
       "      <td>0.0</td>\n",
       "      <td>1.0</td>\n",
       "      <td>679.0</td>\n",
       "      <td>675.0</td>\n",
       "      <td>0.0</td>\n",
       "      <td>0.0</td>\n",
       "    </tr>\n",
       "    <tr>\n",
       "      <th>4</th>\n",
       "      <td>68476807</td>\n",
       "      <td>major_purchase</td>\n",
       "      <td>60 months</td>\n",
       "      <td>Source Verified</td>\n",
       "      <td>0.0</td>\n",
       "      <td>PA</td>\n",
       "      <td>104433.0</td>\n",
       "      <td>Individual</td>\n",
       "      <td>25.37</td>\n",
       "      <td>F</td>\n",
       "      <td>...</td>\n",
       "      <td>22.45</td>\n",
       "      <td>10400.0</td>\n",
       "      <td>Fully Paid</td>\n",
       "      <td>0.0</td>\n",
       "      <td>0.0</td>\n",
       "      <td>1.0</td>\n",
       "      <td>704.0</td>\n",
       "      <td>700.0</td>\n",
       "      <td>0.0</td>\n",
       "      <td>0.0</td>\n",
       "    </tr>\n",
       "  </tbody>\n",
       "</table>\n",
       "<p>5 rows × 23 columns</p>\n",
       "</div>"
      ],
      "text/plain": [
       "         id             purpose        term verification_status  \\\n",
       "0  68407277  debt_consolidation   36 months        Not Verified   \n",
       "1  68355089      small_business   36 months        Not Verified   \n",
       "2  68341763    home_improvement   60 months        Not Verified   \n",
       "3  66310712  debt_consolidation   60 months     Source Verified   \n",
       "4  68476807      major_purchase   60 months     Source Verified   \n",
       "\n",
       "  acc_now_delinq addr_state annual_inc application_type    dti grade  ...  \\\n",
       "0            0.0         PA    55000.0       Individual   5.91     C  ...   \n",
       "1            0.0         SD    65000.0       Individual  16.06     C  ...   \n",
       "2            0.0         IL    63000.0        Joint App  10.78     B  ...   \n",
       "3            0.0         NJ   110000.0       Individual  17.06     C  ...   \n",
       "4            0.0         PA   104433.0       Individual  25.37     F  ...   \n",
       "\n",
       "  int_rate loan_amnt loan_status tax_liens delinq_amnt policy_code  \\\n",
       "0    13.99    3600.0  Fully Paid       0.0         0.0         1.0   \n",
       "1    11.99   24700.0  Fully Paid       0.0         0.0         1.0   \n",
       "2    10.78   20000.0  Fully Paid       0.0         0.0         1.0   \n",
       "3    14.85   35000.0     Current       0.0         0.0         1.0   \n",
       "4    22.45   10400.0  Fully Paid       0.0         0.0         1.0   \n",
       "\n",
       "  last_fico_range_high last_fico_range_low recoveries collection_recovery_fee  \n",
       "0                564.0               560.0        0.0                     0.0  \n",
       "1                699.0               695.0        0.0                     0.0  \n",
       "2                704.0               700.0        0.0                     0.0  \n",
       "3                679.0               675.0        0.0                     0.0  \n",
       "4                704.0               700.0        0.0                     0.0  \n",
       "\n",
       "[5 rows x 23 columns]"
      ]
     },
     "execution_count": 7,
     "metadata": {},
     "output_type": "execute_result"
    }
   ],
   "source": [
    "selected_columns = [\n",
    "    \"id\",\n",
    "    \"purpose\",\n",
    "    \"term\",\n",
    "    \"verification_status\",\n",
    "    \"acc_now_delinq\",\n",
    "    \"addr_state\",\n",
    "    \"annual_inc\",\n",
    "    \"application_type\",\n",
    "    \"dti\",\n",
    "    \"grade\",\n",
    "    \"home_ownership\",\n",
    "    \"initial_list_status\",\n",
    "    \"installment\",\n",
    "    \"int_rate\",\n",
    "    \"loan_amnt\",\n",
    "    \"loan_status\",\n",
    "    'tax_liens',\n",
    "    'delinq_amnt',\n",
    "    'policy_code',\n",
    "    'last_fico_range_high',\n",
    "    'last_fico_range_low',\n",
    "    'recoveries',\n",
    "    'collection_recovery_fee'\n",
    "\n",
    "]\n",
    "df = spark.read.csv('data/accepted_2007_to_2018Q4.csv', header=True).select(selected_columns)\n",
    "df.limit(5).toPandas()"
   ]
  },
  {
   "cell_type": "markdown",
   "id": "6f7d5859",
   "metadata": {
    "papermill": {
     "duration": 0.018364,
     "end_time": "2024-09-21T13:15:35.121029",
     "exception": false,
     "start_time": "2024-09-21T13:15:35.102665",
     "status": "completed"
    },
    "tags": []
   },
   "source": [
    "## **EDA**\n",
    "\n",
    "# Missing Values"
   ]
  },
  {
   "cell_type": "code",
   "execution_count": 8,
   "id": "4acfbf75",
   "metadata": {
    "execution": {
     "iopub.execute_input": "2024-09-21T13:15:35.159110Z",
     "iopub.status.busy": "2024-09-21T13:15:35.158674Z",
     "iopub.status.idle": "2024-09-21T13:17:15.949296Z",
     "shell.execute_reply": "2024-09-21T13:17:15.947990Z"
    },
    "papermill": {
     "duration": 100.851847,
     "end_time": "2024-09-21T13:17:15.991111",
     "exception": false,
     "start_time": "2024-09-21T13:15:35.139264",
     "status": "completed"
    },
    "tags": []
   },
   "outputs": [
    {
     "name": "stderr",
     "output_type": "stream",
     "text": [
      "[Stage 2:====================================================>    (12 + 1) / 13]\r"
     ]
    },
    {
     "name": "stdout",
     "output_type": "stream",
     "text": [
      "+---+-------+----+-------------------+--------------+----------+----------+----------------+----+-----+--------------+-------------------+-----------+--------+---------+-----------+---------+-----------+-----------+--------------------+-------------------+----------+-----------------------+\n",
      "| id|purpose|term|verification_status|acc_now_delinq|addr_state|annual_inc|application_type| dti|grade|home_ownership|initial_list_status|installment|int_rate|loan_amnt|loan_status|tax_liens|delinq_amnt|policy_code|last_fico_range_high|last_fico_range_low|recoveries|collection_recovery_fee|\n",
      "+---+-------+----+-------------------+--------------+----------+----------+----------------+----+-----+--------------+-------------------+-----------+--------+---------+-----------+---------+-----------+-----------+--------------------+-------------------+----------+-----------------------+\n",
      "|  0|     34|  33|                 33|           221|        34|        37|              88|1745|   33|            33|                 50|         33|      33|       33|         33|      338|        258|         99|                  76|                 68|        35|                     39|\n",
      "+---+-------+----+-------------------+--------------+----------+----------+----------------+----+-----+--------------+-------------------+-----------+--------+---------+-----------+---------+-----------+-----------+--------------------+-------------------+----------+-----------------------+\n",
      "\n"
     ]
    },
    {
     "name": "stderr",
     "output_type": "stream",
     "text": [
      "                                                                                \r"
     ]
    }
   ],
   "source": [
    "null_counts = df.agg(*[count(when(isnan(c) | col(c).isNull(), c)).alias(c) for c in df.columns])\n",
    "null_counts.show()"
   ]
  },
  {
   "cell_type": "code",
   "execution_count": 9,
   "id": "21a32081",
   "metadata": {
    "execution": {
     "iopub.execute_input": "2024-09-21T13:17:16.048376Z",
     "iopub.status.busy": "2024-09-21T13:17:16.047922Z",
     "iopub.status.idle": "2024-09-21T13:17:16.084122Z",
     "shell.execute_reply": "2024-09-21T13:17:16.082946Z"
    },
    "papermill": {
     "duration": 0.064002,
     "end_time": "2024-09-21T13:17:16.087333",
     "exception": false,
     "start_time": "2024-09-21T13:17:16.023331",
     "status": "completed"
    },
    "tags": []
   },
   "outputs": [],
   "source": [
    "df = df.na.drop()"
   ]
  },
  {
   "cell_type": "markdown",
   "id": "d6c8f956",
   "metadata": {
    "papermill": {
     "duration": 0.018117,
     "end_time": "2024-09-21T13:17:16.125229",
     "exception": false,
     "start_time": "2024-09-21T13:17:16.107112",
     "status": "completed"
    },
    "tags": []
   },
   "source": [
    "# 'purpose'"
   ]
  },
  {
   "cell_type": "code",
   "execution_count": 10,
   "id": "ccf96504",
   "metadata": {
    "execution": {
     "iopub.execute_input": "2024-09-21T13:17:16.164261Z",
     "iopub.status.busy": "2024-09-21T13:17:16.163847Z",
     "iopub.status.idle": "2024-09-21T13:17:51.188877Z",
     "shell.execute_reply": "2024-09-21T13:17:51.187474Z"
    },
    "papermill": {
     "duration": 35.075454,
     "end_time": "2024-09-21T13:17:51.219035",
     "exception": false,
     "start_time": "2024-09-21T13:17:16.143581",
     "status": "completed"
    },
    "tags": []
   },
   "outputs": [
    {
     "name": "stderr",
     "output_type": "stream",
     "text": [
      "[Stage 5:====================================================>    (12 + 1) / 13]\r"
     ]
    },
    {
     "name": "stdout",
     "output_type": "stream",
     "text": [
      "+------------------+-------+\n",
      "|           purpose|  count|\n",
      "+------------------+-------+\n",
      "|           wedding|   2351|\n",
      "|             other| 139270|\n",
      "|    small_business|  24638|\n",
      "|debt_consolidation|1276774|\n",
      "|       credit_card| 516570|\n",
      "|            moving|  15369|\n",
      "|          vacation|  15518|\n",
      "|  renewable_energy|   1444|\n",
      "|             house|  14119|\n",
      "|               car|  23996|\n",
      "|    major_purchase|  50400|\n",
      "|           medical|  27453|\n",
      "|  home_improvement| 150290|\n",
      "|       educational|    404|\n",
      "+------------------+-------+\n",
      "\n"
     ]
    },
    {
     "name": "stderr",
     "output_type": "stream",
     "text": [
      "                                                                                \r"
     ]
    }
   ],
   "source": [
    "df_with_count = df.groupBy('purpose').count()\n",
    "df_with_count.show()"
   ]
  },
  {
   "cell_type": "code",
   "execution_count": 11,
   "id": "583cc2cd",
   "metadata": {
    "execution": {
     "iopub.execute_input": "2024-09-21T13:17:51.278401Z",
     "iopub.status.busy": "2024-09-21T13:17:51.277851Z",
     "iopub.status.idle": "2024-09-21T13:17:51.419755Z",
     "shell.execute_reply": "2024-09-21T13:17:51.418481Z"
    },
    "papermill": {
     "duration": 0.175787,
     "end_time": "2024-09-21T13:17:51.423768",
     "exception": false,
     "start_time": "2024-09-21T13:17:51.247981",
     "status": "completed"
    },
    "tags": []
   },
   "outputs": [],
   "source": [
    "# Replacing values in the 'purpose' column based on the 'count' column condition\n",
    "# If 'count' is less than 300, set 'purpose' to \"other\", else keep the original 'purpose'\n",
    "\n",
    "df = df\\\n",
    ".join(df_with_count, on='purpose', how='left')\\\n",
    ".withColumn(\"purpose\", when(col(\"count\") < 300, \"other\").otherwise(col(\"purpose\")))\\\n",
    ".drop('count')"
   ]
  },
  {
   "cell_type": "code",
   "execution_count": 12,
   "id": "9c188147",
   "metadata": {
    "execution": {
     "iopub.execute_input": "2024-09-21T13:17:51.483970Z",
     "iopub.status.busy": "2024-09-21T13:17:51.483465Z",
     "iopub.status.idle": "2024-09-21T13:19:00.534331Z",
     "shell.execute_reply": "2024-09-21T13:19:00.533103Z"
    },
    "papermill": {
     "duration": 69.108039,
     "end_time": "2024-09-21T13:19:00.560803",
     "exception": false,
     "start_time": "2024-09-21T13:17:51.452764",
     "status": "completed"
    },
    "tags": []
   },
   "outputs": [
    {
     "name": "stderr",
     "output_type": "stream",
     "text": [
      "                                                                                \r"
     ]
    },
    {
     "name": "stdout",
     "output_type": "stream",
     "text": [
      "+------------------+\n",
      "|           purpose|\n",
      "+------------------+\n",
      "|           wedding|\n",
      "|       educational|\n",
      "|             other|\n",
      "|    small_business|\n",
      "|debt_consolidation|\n",
      "|       credit_card|\n",
      "|            moving|\n",
      "|          vacation|\n",
      "|  renewable_energy|\n",
      "|             house|\n",
      "|               car|\n",
      "|    major_purchase|\n",
      "|           medical|\n",
      "|  home_improvement|\n",
      "+------------------+\n",
      "\n"
     ]
    }
   ],
   "source": [
    "unique_purposes = df.select(\"purpose\").distinct()\n",
    "unique_purposes.show()"
   ]
  },
  {
   "cell_type": "markdown",
   "id": "7ff217a6",
   "metadata": {
    "papermill": {
     "duration": 0.018779,
     "end_time": "2024-09-21T13:19:00.598878",
     "exception": false,
     "start_time": "2024-09-21T13:19:00.580099",
     "status": "completed"
    },
    "tags": []
   },
   "source": [
    "# 'term'"
   ]
  },
  {
   "cell_type": "code",
   "execution_count": 13,
   "id": "c32f379a",
   "metadata": {
    "execution": {
     "iopub.execute_input": "2024-09-21T13:19:00.638601Z",
     "iopub.status.busy": "2024-09-21T13:19:00.638161Z",
     "iopub.status.idle": "2024-09-21T13:19:34.644374Z",
     "shell.execute_reply": "2024-09-21T13:19:34.643150Z"
    },
    "papermill": {
     "duration": 34.061512,
     "end_time": "2024-09-21T13:19:34.679446",
     "exception": false,
     "start_time": "2024-09-21T13:19:00.617934",
     "status": "completed"
    },
    "tags": []
   },
   "outputs": [
    {
     "name": "stderr",
     "output_type": "stream",
     "text": [
      "[Stage 17:===================================================>    (12 + 1) / 13]\r"
     ]
    },
    {
     "name": "stdout",
     "output_type": "stream",
     "text": [
      "+----------+-------+\n",
      "|      term|  count|\n",
      "+----------+-------+\n",
      "| 36 months|1608405|\n",
      "| 60 months| 650191|\n",
      "+----------+-------+\n",
      "\n"
     ]
    },
    {
     "name": "stderr",
     "output_type": "stream",
     "text": [
      "                                                                                \r"
     ]
    }
   ],
   "source": [
    "df.groupby('term').count()\\\n",
    ".show()"
   ]
  },
  {
   "cell_type": "code",
   "execution_count": 14,
   "id": "a4b63877",
   "metadata": {
    "execution": {
     "iopub.execute_input": "2024-09-21T13:19:34.743457Z",
     "iopub.status.busy": "2024-09-21T13:19:34.743017Z",
     "iopub.status.idle": "2024-09-21T13:19:34.787710Z",
     "shell.execute_reply": "2024-09-21T13:19:34.786539Z"
    },
    "papermill": {
     "duration": 0.080182,
     "end_time": "2024-09-21T13:19:34.790977",
     "exception": false,
     "start_time": "2024-09-21T13:19:34.710795",
     "status": "completed"
    },
    "tags": []
   },
   "outputs": [],
   "source": [
    "# Applying a regular expression to extract numbers from the 'term' column and then casting it to the Integer data type.\n",
    "\n",
    "df = df\\\n",
    ".withColumn(\"term\", regexp_extract(col(\"term\"), r'(\\d+)', 0).cast(\"int\"))"
   ]
  },
  {
   "cell_type": "code",
   "execution_count": 15,
   "id": "39656e8b",
   "metadata": {
    "execution": {
     "iopub.execute_input": "2024-09-21T13:19:34.852940Z",
     "iopub.status.busy": "2024-09-21T13:19:34.852395Z",
     "iopub.status.idle": "2024-09-21T13:20:09.191605Z",
     "shell.execute_reply": "2024-09-21T13:20:09.190080Z"
    },
    "papermill": {
     "duration": 34.391547,
     "end_time": "2024-09-21T13:20:09.212738",
     "exception": false,
     "start_time": "2024-09-21T13:19:34.821191",
     "status": "completed"
    },
    "tags": []
   },
   "outputs": [
    {
     "name": "stderr",
     "output_type": "stream",
     "text": [
      "[Stage 20:============>                                           (3 + 10) / 13]\r"
     ]
    },
    {
     "name": "stdout",
     "output_type": "stream",
     "text": [
      "+-------------------+------+\n",
      "|verification_status| count|\n",
      "+-------------------+------+\n",
      "|           Verified|629395|\n",
      "|    Source Verified|886141|\n",
      "|       Not Verified|743060|\n",
      "+-------------------+------+\n",
      "\n"
     ]
    },
    {
     "name": "stderr",
     "output_type": "stream",
     "text": [
      "                                                                                \r"
     ]
    }
   ],
   "source": [
    "df.groupby('verification_status').count()\\\n",
    ".show()"
   ]
  },
  {
   "cell_type": "code",
   "execution_count": 16,
   "id": "d5379fbb",
   "metadata": {
    "execution": {
     "iopub.execute_input": "2024-09-21T13:20:09.254126Z",
     "iopub.status.busy": "2024-09-21T13:20:09.253700Z",
     "iopub.status.idle": "2024-09-21T13:20:09.302692Z",
     "shell.execute_reply": "2024-09-21T13:20:09.301483Z"
    },
    "papermill": {
     "duration": 0.072638,
     "end_time": "2024-09-21T13:20:09.305320",
     "exception": false,
     "start_time": "2024-09-21T13:20:09.232682",
     "status": "completed"
    },
    "tags": []
   },
   "outputs": [],
   "source": [
    "# Encode 'verification_status' column values into a new column 'verification_status_encoded'\n",
    "# If 'verification_status' is either \"Verified\" or \"Source Verified\", set 'verification_status_encoded' to 0\n",
    "# Otherwise, set it to 1\n",
    "\n",
    "df = df\\\n",
    ".withColumn(\"verification_status_encoded\",\n",
    "            when(col(\"verification_status\")\n",
    "                 .isin([\"Verified\", \"Source Verified\"]),0)\n",
    "            .otherwise(1))\\\n",
    ".drop(\"verification_status\")"
   ]
  },
  {
   "cell_type": "code",
   "execution_count": 17,
   "id": "4282d718",
   "metadata": {
    "execution": {
     "iopub.execute_input": "2024-09-21T13:20:09.346772Z",
     "iopub.status.busy": "2024-09-21T13:20:09.346296Z",
     "iopub.status.idle": "2024-09-21T13:20:43.415673Z",
     "shell.execute_reply": "2024-09-21T13:20:43.414521Z"
    },
    "papermill": {
     "duration": 34.12448,
     "end_time": "2024-09-21T13:20:43.449401",
     "exception": false,
     "start_time": "2024-09-21T13:20:09.324921",
     "status": "completed"
    },
    "tags": []
   },
   "outputs": [
    {
     "name": "stderr",
     "output_type": "stream",
     "text": [
      "[Stage 23:===================================================>    (12 + 1) / 13]\r"
     ]
    },
    {
     "name": "stdout",
     "output_type": "stream",
     "text": [
      "+---------------------------+-------+\n",
      "|verification_status_encoded|  count|\n",
      "+---------------------------+-------+\n",
      "|                          1| 743060|\n",
      "|                          0|1515536|\n",
      "+---------------------------+-------+\n",
      "\n"
     ]
    },
    {
     "name": "stderr",
     "output_type": "stream",
     "text": [
      "                                                                                \r"
     ]
    }
   ],
   "source": [
    "df.groupby('verification_status_encoded').count()\\\n",
    ".show()"
   ]
  },
  {
   "cell_type": "markdown",
   "id": "ec367f2a",
   "metadata": {
    "papermill": {
     "duration": 0.020307,
     "end_time": "2024-09-21T13:20:43.489273",
     "exception": false,
     "start_time": "2024-09-21T13:20:43.468966",
     "status": "completed"
    },
    "tags": []
   },
   "source": [
    "# 'acc_now_delinq'"
   ]
  },
  {
   "cell_type": "code",
   "execution_count": 18,
   "id": "0a4d95e4",
   "metadata": {
    "execution": {
     "iopub.execute_input": "2024-09-21T13:20:43.530261Z",
     "iopub.status.busy": "2024-09-21T13:20:43.529844Z",
     "iopub.status.idle": "2024-09-21T13:21:17.360322Z",
     "shell.execute_reply": "2024-09-21T13:21:17.359176Z"
    },
    "papermill": {
     "duration": 33.88481,
     "end_time": "2024-09-21T13:21:17.393738",
     "exception": false,
     "start_time": "2024-09-21T13:20:43.508928",
     "status": "completed"
    },
    "tags": []
   },
   "outputs": [
    {
     "name": "stderr",
     "output_type": "stream",
     "text": [
      "[Stage 26:===================================================>    (12 + 1) / 13]\r"
     ]
    },
    {
     "name": "stdout",
     "output_type": "stream",
     "text": [
      "+--------------+-------+\n",
      "|acc_now_delinq|  count|\n",
      "+--------------+-------+\n",
      "|           1.0|   8290|\n",
      "|           0.0|2249817|\n",
      "|           5.0|      3|\n",
      "|           4.0|     11|\n",
      "|           2.0|    421|\n",
      "|           3.0|     50|\n",
      "|          14.0|      1|\n",
      "|           6.0|      2|\n",
      "|           7.0|      1|\n",
      "+--------------+-------+\n",
      "\n"
     ]
    },
    {
     "name": "stderr",
     "output_type": "stream",
     "text": [
      "                                                                                \r"
     ]
    }
   ],
   "source": [
    "df.groupby('acc_now_delinq').count()\\\n",
    ".show()"
   ]
  },
  {
   "cell_type": "code",
   "execution_count": 19,
   "id": "6994ebb6",
   "metadata": {
    "execution": {
     "iopub.execute_input": "2024-09-21T13:21:17.437270Z",
     "iopub.status.busy": "2024-09-21T13:21:17.436844Z",
     "iopub.status.idle": "2024-09-21T13:21:17.533789Z",
     "shell.execute_reply": "2024-09-21T13:21:17.532446Z"
    },
    "papermill": {
     "duration": 0.123351,
     "end_time": "2024-09-21T13:21:17.537054",
     "exception": false,
     "start_time": "2024-09-21T13:21:17.413703",
     "status": "completed"
    },
    "tags": []
   },
   "outputs": [],
   "source": [
    "# Define the valid values for 'acc_now_delinq'\n",
    "valid_values = [0, 1, 2, 3, 4, 5, 6, 7, 8, 9, 10]\n",
    "\n",
    "# Modify the 'acc_now_delinq' column:\n",
    "# 1. Cast the column to IntegerType\n",
    "# 2. Set values greater than or equal to 4 to 4, and keep other valid values as they are\n",
    "df = df.withColumn('acc_now_delinq', col('acc_now_delinq').cast('int')) \\\n",
    "       .withColumn('acc_now_delinq', when(col('acc_now_delinq') >= 4, 4).otherwise(col('acc_now_delinq'))) \\\n",
    "       .filter(col('acc_now_delinq').isin(valid_values))"
   ]
  },
  {
   "cell_type": "code",
   "execution_count": 20,
   "id": "debe5710",
   "metadata": {
    "execution": {
     "iopub.execute_input": "2024-09-21T13:21:17.593711Z",
     "iopub.status.busy": "2024-09-21T13:21:17.593238Z",
     "iopub.status.idle": "2024-09-21T13:21:52.718955Z",
     "shell.execute_reply": "2024-09-21T13:21:52.717476Z"
    },
    "papermill": {
     "duration": 35.192897,
     "end_time": "2024-09-21T13:21:52.761023",
     "exception": false,
     "start_time": "2024-09-21T13:21:17.568126",
     "status": "completed"
    },
    "tags": []
   },
   "outputs": [
    {
     "name": "stderr",
     "output_type": "stream",
     "text": [
      "[Stage 29:===================================================>    (12 + 1) / 13]\r"
     ]
    },
    {
     "name": "stdout",
     "output_type": "stream",
     "text": [
      "+--------------+-------+\n",
      "|acc_now_delinq|  count|\n",
      "+--------------+-------+\n",
      "|             1|   8290|\n",
      "|             3|     50|\n",
      "|             4|     18|\n",
      "|             2|    421|\n",
      "|             0|2249817|\n",
      "+--------------+-------+\n",
      "\n"
     ]
    },
    {
     "name": "stderr",
     "output_type": "stream",
     "text": [
      "                                                                                \r"
     ]
    }
   ],
   "source": [
    "df.groupby('acc_now_delinq').count()\\\n",
    ".show()"
   ]
  },
  {
   "cell_type": "markdown",
   "id": "d9e39a55",
   "metadata": {
    "papermill": {
     "duration": 0.034652,
     "end_time": "2024-09-21T13:21:52.829671",
     "exception": false,
     "start_time": "2024-09-21T13:21:52.795019",
     "status": "completed"
    },
    "tags": []
   },
   "source": [
    "# 'application_type'"
   ]
  },
  {
   "cell_type": "code",
   "execution_count": 21,
   "id": "9b989072",
   "metadata": {
    "execution": {
     "iopub.execute_input": "2024-09-21T13:21:52.874021Z",
     "iopub.status.busy": "2024-09-21T13:21:52.873567Z",
     "iopub.status.idle": "2024-09-21T13:22:30.356716Z",
     "shell.execute_reply": "2024-09-21T13:22:30.355223Z"
    },
    "papermill": {
     "duration": 37.548147,
     "end_time": "2024-09-21T13:22:30.399739",
     "exception": false,
     "start_time": "2024-09-21T13:21:52.851592",
     "status": "completed"
    },
    "tags": []
   },
   "outputs": [
    {
     "name": "stderr",
     "output_type": "stream",
     "text": [
      "[Stage 32:==============================>                          (7 + 6) / 13]\r"
     ]
    },
    {
     "name": "stdout",
     "output_type": "stream",
     "text": [
      "+----------------+-------+\n",
      "|application_type|  count|\n",
      "+----------------+-------+\n",
      "|       Joint App| 118999|\n",
      "|      Individual|2139597|\n",
      "+----------------+-------+\n",
      "\n"
     ]
    },
    {
     "name": "stderr",
     "output_type": "stream",
     "text": [
      "                                                                                \r"
     ]
    }
   ],
   "source": [
    "df.groupby('application_type').count()\\\n",
    ".show()"
   ]
  },
  {
   "cell_type": "code",
   "execution_count": 22,
   "id": "77ab3f0d",
   "metadata": {
    "execution": {
     "iopub.execute_input": "2024-09-21T13:22:30.444472Z",
     "iopub.status.busy": "2024-09-21T13:22:30.443998Z",
     "iopub.status.idle": "2024-09-21T13:22:30.519447Z",
     "shell.execute_reply": "2024-09-21T13:22:30.518179Z"
    },
    "papermill": {
     "duration": 0.101099,
     "end_time": "2024-09-21T13:22:30.522676",
     "exception": false,
     "start_time": "2024-09-21T13:22:30.421577",
     "status": "completed"
    },
    "tags": []
   },
   "outputs": [],
   "source": [
    "# Define the valid values for 'application_type'\n",
    "valid_values = ['Joint App', 'Individual']\n",
    "\n",
    "# Modify the 'application_type' column:\n",
    "# 1. Map 'Joint App' to 0 and 'Individual' to 1\n",
    "# 2. Remove other values\n",
    "# 3. Cast the column to IntegerType\n",
    "\n",
    "df = df.withColumn('application_type',\n",
    "                   when(col('application_type') == 'Joint App', 0)\n",
    "                   .when(col('application_type') == 'Individual', 1)\n",
    "                   .otherwise(None))\n",
    "\n",
    "df = df.filter(col('application_type').isNotNull()).withColumn('application_type', col('application_type').cast('int'))"
   ]
  },
  {
   "cell_type": "markdown",
   "id": "fb06c4c9",
   "metadata": {
    "papermill": {
     "duration": 0.021963,
     "end_time": "2024-09-21T13:22:30.649037",
     "exception": false,
     "start_time": "2024-09-21T13:22:30.627074",
     "status": "completed"
    },
    "tags": []
   },
   "source": [
    "# 'grade'"
   ]
  },
  {
   "cell_type": "code",
   "execution_count": 23,
   "id": "2872805f",
   "metadata": {
    "execution": {
     "iopub.execute_input": "2024-09-21T13:22:30.696235Z",
     "iopub.status.busy": "2024-09-21T13:22:30.695799Z",
     "iopub.status.idle": "2024-09-21T13:23:06.512625Z",
     "shell.execute_reply": "2024-09-21T13:23:06.511403Z"
    },
    "papermill": {
     "duration": 35.865232,
     "end_time": "2024-09-21T13:23:06.537105",
     "exception": false,
     "start_time": "2024-09-21T13:22:30.671873",
     "status": "completed"
    },
    "tags": []
   },
   "outputs": [
    {
     "name": "stderr",
     "output_type": "stream",
     "text": [
      "[Stage 35:===================================================>    (12 + 1) / 13]\r"
     ]
    },
    {
     "name": "stdout",
     "output_type": "stream",
     "text": [
      "+-----+------+\n",
      "|grade| count|\n",
      "+-----+------+\n",
      "|    F| 41758|\n",
      "|    E|135506|\n",
      "|    B|663013|\n",
      "|    D|324042|\n",
      "|    C|649471|\n",
      "|    A|432662|\n",
      "|    G| 12144|\n",
      "+-----+------+\n",
      "\n"
     ]
    },
    {
     "name": "stderr",
     "output_type": "stream",
     "text": [
      "                                                                                \r"
     ]
    }
   ],
   "source": [
    "df.groupby('grade').count()\\\n",
    ".show()"
   ]
  },
  {
   "cell_type": "code",
   "execution_count": 24,
   "id": "cbffb21d",
   "metadata": {
    "execution": {
     "iopub.execute_input": "2024-09-21T13:23:06.582282Z",
     "iopub.status.busy": "2024-09-21T13:23:06.581847Z",
     "iopub.status.idle": "2024-09-21T13:23:41.940554Z",
     "shell.execute_reply": "2024-09-21T13:23:41.931154Z"
    },
    "papermill": {
     "duration": 35.401159,
     "end_time": "2024-09-21T13:23:41.960416",
     "exception": false,
     "start_time": "2024-09-21T13:23:06.559257",
     "status": "completed"
    },
    "tags": []
   },
   "outputs": [
    {
     "name": "stderr",
     "output_type": "stream",
     "text": [
      "                                                                                \r"
     ]
    }
   ],
   "source": [
    "# Create a StringIndexer to convert 'grade' column into numerical indices\n",
    "grade_indexer = StringIndexer(inputCol=\"grade\", outputCol=\"grade_index\", stringOrderType=\"alphabetAsc\")\n",
    "\n",
    "df = grade_indexer\\\n",
    ".fit(df)\\\n",
    ".transform(df)\\\n",
    ".drop('grade')"
   ]
  },
  {
   "cell_type": "code",
   "execution_count": 23,
   "id": "efc9c5d7",
   "metadata": {
    "execution": {
     "iopub.execute_input": "2024-09-21T13:23:42.011393Z",
     "iopub.status.busy": "2024-09-21T13:23:42.010932Z",
     "iopub.status.idle": "2024-09-21T13:24:18.442977Z",
     "shell.execute_reply": "2024-09-21T13:24:18.436456Z"
    },
    "papermill": {
     "duration": 36.486206,
     "end_time": "2024-09-21T13:24:18.473828",
     "exception": false,
     "start_time": "2024-09-21T13:23:41.987622",
     "status": "completed"
    },
    "tags": []
   },
   "outputs": [
    {
     "name": "stderr",
     "output_type": "stream",
     "text": [
      "[Stage 38:>                                                         (0 + 1) / 1]\r"
     ]
    },
    {
     "name": "stdout",
     "output_type": "stream",
     "text": [
      "+-----------+------+\n",
      "|grade_index| count|\n",
      "+-----------+------+\n",
      "|        0.0|432662|\n",
      "|        1.0|663013|\n",
      "|        4.0|135506|\n",
      "|        3.0|324042|\n",
      "|        2.0|649471|\n",
      "|        6.0| 12144|\n",
      "|        5.0| 41758|\n",
      "+-----------+------+\n",
      "\n"
     ]
    },
    {
     "name": "stderr",
     "output_type": "stream",
     "text": [
      "                                                                                \r"
     ]
    }
   ],
   "source": [
    "df.groupby('grade_index').count()\\\n",
    ".show()"
   ]
  },
  {
   "cell_type": "markdown",
   "id": "eeef0851",
   "metadata": {
    "papermill": {
     "duration": 0.024673,
     "end_time": "2024-09-21T13:24:18.521335",
     "exception": false,
     "start_time": "2024-09-21T13:24:18.496662",
     "status": "completed"
    },
    "tags": []
   },
   "source": [
    "# One Hot Encoder"
   ]
  },
  {
   "cell_type": "code",
   "execution_count": 25,
   "id": "f6016da3",
   "metadata": {
    "execution": {
     "iopub.execute_input": "2024-09-21T13:24:18.568397Z",
     "iopub.status.busy": "2024-09-21T13:24:18.567967Z",
     "iopub.status.idle": "2024-09-21T13:27:17.304611Z",
     "shell.execute_reply": "2024-09-21T13:27:17.303112Z"
    },
    "papermill": {
     "duration": 178.783467,
     "end_time": "2024-09-21T13:27:17.329064",
     "exception": false,
     "start_time": "2024-09-21T13:24:18.545597",
     "status": "completed"
    },
    "tags": []
   },
   "outputs": [
    {
     "name": "stderr",
     "output_type": "stream",
     "text": [
      "                                                                                \r"
     ]
    }
   ],
   "source": [
    "columns_to_encode = ['purpose', 'addr_state', 'home_ownership', 'initial_list_status']\n",
    "\n",
    "for column in columns_to_encode:\n",
    "    df = one_hot_encode_column(df, column)"
   ]
  },
  {
   "cell_type": "markdown",
   "id": "a1c94e2c",
   "metadata": {
    "papermill": {
     "duration": 0.025884,
     "end_time": "2024-09-21T13:27:17.377586",
     "exception": false,
     "start_time": "2024-09-21T13:27:17.351702",
     "status": "completed"
    },
    "tags": []
   },
   "source": [
    "# Cast to float type"
   ]
  },
  {
   "cell_type": "code",
   "execution_count": 26,
   "id": "da262ee1",
   "metadata": {
    "execution": {
     "iopub.execute_input": "2024-09-21T13:27:17.423525Z",
     "iopub.status.busy": "2024-09-21T13:27:17.423072Z",
     "iopub.status.idle": "2024-09-21T13:27:17.668577Z",
     "shell.execute_reply": "2024-09-21T13:27:17.667323Z"
    },
    "papermill": {
     "duration": 0.271963,
     "end_time": "2024-09-21T13:27:17.672056",
     "exception": false,
     "start_time": "2024-09-21T13:27:17.400093",
     "status": "completed"
    },
    "tags": []
   },
   "outputs": [],
   "source": [
    "columns_to_cast = [ 'installment',\n",
    "                   'int_rate',\n",
    "                    'loan_amnt',\n",
    "                    'annual_inc',\n",
    "                    'dti',\n",
    "                    'tax_liens',\n",
    "                    'delinq_amnt',\n",
    "                    'policy_code',\n",
    "                    'last_fico_range_high',\n",
    "                    'last_fico_range_low',\n",
    "                    'recoveries',\n",
    "                    'collection_recovery_fee'\n",
    "]\n",
    "\n",
    "# cast to float\n",
    "for column_name in columns_to_cast:\n",
    "    df = df.withColumn(column_name, col(column_name).cast('float'))"
   ]
  },
  {
   "cell_type": "code",
   "execution_count": 27,
   "id": "8a5a983d",
   "metadata": {
    "execution": {
     "iopub.execute_input": "2024-09-21T13:27:17.741089Z",
     "iopub.status.busy": "2024-09-21T13:27:17.740099Z",
     "iopub.status.idle": "2024-09-21T13:27:17.759451Z",
     "shell.execute_reply": "2024-09-21T13:27:17.758210Z"
    },
    "papermill": {
     "duration": 0.056792,
     "end_time": "2024-09-21T13:27:17.762441",
     "exception": false,
     "start_time": "2024-09-21T13:27:17.705649",
     "status": "completed"
    },
    "tags": []
   },
   "outputs": [
    {
     "data": {
      "text/plain": [
       "[('id', 'string'),\n",
       " ('term', 'int'),\n",
       " ('acc_now_delinq', 'int'),\n",
       " ('annual_inc', 'float'),\n",
       " ('application_type', 'int'),\n",
       " ('dti', 'float'),\n",
       " ('installment', 'float'),\n",
       " ('int_rate', 'float'),\n",
       " ('loan_amnt', 'float'),\n",
       " ('loan_status', 'string'),\n",
       " ('tax_liens', 'float'),\n",
       " ('delinq_amnt', 'float'),\n",
       " ('policy_code', 'float'),\n",
       " ('last_fico_range_high', 'float'),\n",
       " ('last_fico_range_low', 'float'),\n",
       " ('recoveries', 'float'),\n",
       " ('collection_recovery_fee', 'float'),\n",
       " ('verification_status_encoded', 'int'),\n",
       " ('grade_index', 'double'),\n",
       " ('purpose_encoded', 'vector'),\n",
       " ('addr_state_encoded', 'vector'),\n",
       " ('home_ownership_encoded', 'vector'),\n",
       " ('initial_list_status_encoded', 'vector')]"
      ]
     },
     "execution_count": 27,
     "metadata": {},
     "output_type": "execute_result"
    }
   ],
   "source": [
    "df.dtypes"
   ]
  },
  {
   "cell_type": "markdown",
   "id": "9a0ee741",
   "metadata": {
    "papermill": {
     "duration": 0.034204,
     "end_time": "2024-09-21T13:27:17.830448",
     "exception": false,
     "start_time": "2024-09-21T13:27:17.796244",
     "status": "completed"
    },
    "tags": []
   },
   "source": [
    "# 'loan_status' -> target"
   ]
  },
  {
   "cell_type": "code",
   "execution_count": 28,
   "id": "2eabb065",
   "metadata": {
    "execution": {
     "iopub.execute_input": "2024-09-21T13:27:17.906092Z",
     "iopub.status.busy": "2024-09-21T13:27:17.904528Z",
     "iopub.status.idle": "2024-09-21T13:27:53.456303Z",
     "shell.execute_reply": "2024-09-21T13:27:53.455107Z"
    },
    "papermill": {
     "duration": 35.614962,
     "end_time": "2024-09-21T13:27:53.481943",
     "exception": false,
     "start_time": "2024-09-21T13:27:17.866981",
     "status": "completed"
    },
    "tags": []
   },
   "outputs": [
    {
     "name": "stderr",
     "output_type": "stream",
     "text": [
      "[Stage 59:===================================================>    (12 + 1) / 13]\r"
     ]
    },
    {
     "name": "stdout",
     "output_type": "stream",
     "text": [
      "+--------------------+-------+\n",
      "|         loan_status|  count|\n",
      "+--------------------+-------+\n",
      "|          Fully Paid|1076218|\n",
      "|             Default|     40|\n",
      "|     In Grace Period|   8427|\n",
      "|         Charged Off| 268452|\n",
      "|  Late (31-120 days)|  21443|\n",
      "|             Current| 877018|\n",
      "|   Late (16-30 days)|   4344|\n",
      "|Does not meet the...|   1913|\n",
      "|Does not meet the...|    741|\n",
      "+--------------------+-------+\n",
      "\n"
     ]
    },
    {
     "name": "stderr",
     "output_type": "stream",
     "text": [
      "                                                                                \r"
     ]
    }
   ],
   "source": [
    "df.groupby('loan_status').count()\\\n",
    ".show()"
   ]
  },
  {
   "cell_type": "code",
   "execution_count": 29,
   "id": "f0fe7371",
   "metadata": {
    "execution": {
     "iopub.execute_input": "2024-09-21T13:27:53.528159Z",
     "iopub.status.busy": "2024-09-21T13:27:53.527718Z",
     "iopub.status.idle": "2024-09-21T13:27:53.596583Z",
     "shell.execute_reply": "2024-09-21T13:27:53.595251Z"
    },
    "papermill": {
     "duration": 0.0954,
     "end_time": "2024-09-21T13:27:53.599508",
     "exception": false,
     "start_time": "2024-09-21T13:27:53.504108",
     "status": "completed"
    },
    "tags": []
   },
   "outputs": [],
   "source": [
    "# encode 'loan_status' to 0 - fully paid, 1 - late, 2 - charged off\n",
    "df = df.withColumn(\"target\",\n",
    "                   when(col(\"loan_status\") == \"Fully Paid\", 0)\n",
    "                   .when((col(\"loan_status\") == \"Late (16-30 days)\") | (col(\"loan_status\") == \"Late (31-120 days)\") | (col(\"loan_status\") == \"In Grace Period\"), 1)\n",
    "                   .when((col(\"loan_status\") == \"Charged Off\") | (col(\"loan_status\") == 'Default'), 2)\n",
    "                   .otherwise(None))\\\n",
    ".drop(\"loan_status\")\n",
    "df = df.filter(df.target.isNotNull())"
   ]
  },
  {
   "cell_type": "code",
   "execution_count": 30,
   "id": "ae62b277",
   "metadata": {
    "execution": {
     "iopub.execute_input": "2024-09-21T13:27:53.646959Z",
     "iopub.status.busy": "2024-09-21T13:27:53.646414Z",
     "iopub.status.idle": "2024-09-21T13:28:28.736338Z",
     "shell.execute_reply": "2024-09-21T13:28:28.735087Z"
    },
    "papermill": {
     "duration": 35.148319,
     "end_time": "2024-09-21T13:28:28.770622",
     "exception": false,
     "start_time": "2024-09-21T13:27:53.622303",
     "status": "completed"
    },
    "tags": []
   },
   "outputs": [
    {
     "name": "stderr",
     "output_type": "stream",
     "text": [
      "[Stage 62:===================================================>    (12 + 1) / 13]\r"
     ]
    },
    {
     "name": "stdout",
     "output_type": "stream",
     "text": [
      "+------+-------+\n",
      "|target|  count|\n",
      "+------+-------+\n",
      "|     1|  34214|\n",
      "|     2| 268492|\n",
      "|     0|1076218|\n",
      "+------+-------+\n",
      "\n"
     ]
    },
    {
     "name": "stderr",
     "output_type": "stream",
     "text": [
      "                                                                                \r"
     ]
    }
   ],
   "source": [
    "df.groupby('target').count()\\\n",
    ".show()"
   ]
  },
  {
   "cell_type": "markdown",
   "id": "b9c6bdee",
   "metadata": {
    "papermill": {
     "duration": 0.028213,
     "end_time": "2024-09-21T13:28:28.822290",
     "exception": false,
     "start_time": "2024-09-21T13:28:28.794077",
     "status": "completed"
    },
    "tags": []
   },
   "source": [
    "# Downsampling"
   ]
  },
  {
   "cell_type": "code",
   "execution_count": 31,
   "id": "b1754a50",
   "metadata": {
    "execution": {
     "iopub.execute_input": "2024-09-21T13:28:28.868345Z",
     "iopub.status.busy": "2024-09-21T13:28:28.867947Z",
     "iopub.status.idle": "2024-09-21T13:28:29.301801Z",
     "shell.execute_reply": "2024-09-21T13:28:29.300592Z"
    },
    "papermill": {
     "duration": 0.460078,
     "end_time": "2024-09-21T13:28:29.304540",
     "exception": false,
     "start_time": "2024-09-21T13:28:28.844462",
     "status": "completed"
    },
    "tags": []
   },
   "outputs": [],
   "source": [
    "df = df.drop('id')\n",
    "df_downsampled = df.filter(col(\"target\") == 0).sampleBy(\"target\", fractions={0: 0.3}).unionAll(df.filter(col(\"target\") != 0))\n",
    "df_downsampled = df_downsampled.na.drop()"
   ]
  },
  {
   "cell_type": "code",
   "execution_count": 32,
   "id": "4e520bc9",
   "metadata": {
    "execution": {
     "iopub.execute_input": "2024-09-21T13:28:29.352432Z",
     "iopub.status.busy": "2024-09-21T13:28:29.351286Z",
     "iopub.status.idle": "2024-09-21T13:30:30.511204Z",
     "shell.execute_reply": "2024-09-21T13:30:30.509782Z"
    },
    "papermill": {
     "duration": 121.18838,
     "end_time": "2024-09-21T13:30:30.515442",
     "exception": false,
     "start_time": "2024-09-21T13:28:29.327062",
     "status": "completed"
    },
    "tags": []
   },
   "outputs": [
    {
     "name": "stderr",
     "output_type": "stream",
     "text": [
      "                                                                                \r"
     ]
    },
    {
     "data": {
      "image/png": "[encoded data removed]",
      "text/plain": [
       "<Figure size 1500x600 with 2 Axes>"
      ]
     },
     "metadata": {},
     "output_type": "display_data"
    }
   ],
   "source": [
    "loan_status_count_original = df.groupby('target').count().toPandas()\n",
    "\n",
    "plt.figure(figsize=(15, 6))\n",
    "\n",
    "# Subplot 1 - Target Distribution before downsampling\n",
    "plt.subplot(1, 3, 1)\n",
    "plt.pie(loan_status_count_original['count'], labels=loan_status_count_original['target'], autopct='%1.1f%%')\n",
    "plt.title('Target Distribution - Original Dataset')\n",
    "\n",
    "# Downsampled dataset\n",
    "loan_status_count_downsampled = df_downsampled.groupby('target').count().toPandas()\n",
    "\n",
    "# Subplot 2 - Target Distribution after downsampling\n",
    "plt.subplot(1, 3, 2)\n",
    "plt.pie(loan_status_count_downsampled['count'], labels=loan_status_count_downsampled['target'], autopct='%1.1f%%')\n",
    "plt.title('Target Distribution - After Downsampling')\n",
    "\n",
    "plt.show()"
   ]
  },
  {
   "cell_type": "markdown",
   "id": "8082dbe8",
   "metadata": {
    "papermill": {
     "duration": 0.023027,
     "end_time": "2024-09-21T13:30:30.564118",
     "exception": false,
     "start_time": "2024-09-21T13:30:30.541091",
     "status": "completed"
    },
    "tags": []
   },
   "source": [
    "# VectorAssembler"
   ]
  },
  {
   "cell_type": "code",
   "execution_count": 34,
   "id": "b343128e",
   "metadata": {
    "execution": {
     "iopub.execute_input": "2024-09-21T13:30:30.612573Z",
     "iopub.status.busy": "2024-09-21T13:30:30.612127Z",
     "iopub.status.idle": "2024-09-21T13:31:06.171665Z",
     "shell.execute_reply": "2024-09-21T13:31:06.170289Z"
    },
    "papermill": {
     "duration": 35.587597,
     "end_time": "2024-09-21T13:31:06.175074",
     "exception": false,
     "start_time": "2024-09-21T13:30:30.587477",
     "status": "completed"
    },
    "tags": []
   },
   "outputs": [
    {
     "name": "stdout",
     "output_type": "stream",
     "text": [
      "['term', 'acc_now_delinq', 'annual_inc', 'application_type', 'dti', 'installment', 'int_rate', 'loan_amnt', 'tax_liens', 'delinq_amnt', 'policy_code', 'last_fico_range_high', 'last_fico_range_low', 'recoveries', 'collection_recovery_fee', 'verification_status_encoded', 'grade_index', 'purpose_encoded', 'addr_state_encoded', 'home_ownership_encoded', 'initial_list_status_encoded', 'features_to_scale']\n"
     ]
    },
    {
     "ename": "IllegalArgumentException",
     "evalue": "Output column features_to_scale already exists.",
     "output_type": "error",
     "traceback": [
      "\u001b[0;31m---------------------------------------------------------------------------\u001b[0m",
      "\u001b[0;31mIllegalArgumentException\u001b[0m                  Traceback (most recent call last)",
      "Cell \u001b[0;32mIn[34], line 8\u001b[0m\n\u001b[1;32m      5\u001b[0m target \u001b[38;5;241m=\u001b[39m [\u001b[38;5;124m'\u001b[39m\u001b[38;5;124mtarget\u001b[39m\u001b[38;5;124m'\u001b[39m]\n\u001b[1;32m      6\u001b[0m assembler \u001b[38;5;241m=\u001b[39m VectorAssembler(inputCols\u001b[38;5;241m=\u001b[39mfeature_cols, outputCol\u001b[38;5;241m=\u001b[39m\u001b[38;5;124m\"\u001b[39m\u001b[38;5;124mfeatures_to_scale\u001b[39m\u001b[38;5;124m\"\u001b[39m)\n\u001b[0;32m----> 8\u001b[0m df_downsampled \u001b[38;5;241m=\u001b[39m \u001b[43massembler\u001b[49m\u001b[38;5;241;43m.\u001b[39;49m\u001b[43mtransform\u001b[49m\u001b[43m(\u001b[49m\u001b[43mdf_downsampled\u001b[49m\u001b[43m)\u001b[49m\n\u001b[1;32m     10\u001b[0m df_downsampled\\\n\u001b[1;32m     11\u001b[0m \u001b[38;5;241m.\u001b[39mselect(\u001b[38;5;124m'\u001b[39m\u001b[38;5;124mfeatures_to_scale\u001b[39m\u001b[38;5;124m'\u001b[39m, \u001b[38;5;124m'\u001b[39m\u001b[38;5;124mtarget\u001b[39m\u001b[38;5;124m'\u001b[39m)\\\n\u001b[1;32m     12\u001b[0m \u001b[38;5;241m.\u001b[39mshow(\u001b[38;5;241m5\u001b[39m)\n",
      "File \u001b[0;32m~/Documents/Cypher/Loan Risk Modeling/.venv/lib/python3.9/site-packages/pyspark/ml/base.py:262\u001b[0m, in \u001b[0;36mTransformer.transform\u001b[0;34m(self, dataset, params)\u001b[0m\n\u001b[1;32m    260\u001b[0m         \u001b[38;5;28;01mreturn\u001b[39;00m \u001b[38;5;28mself\u001b[39m\u001b[38;5;241m.\u001b[39mcopy(params)\u001b[38;5;241m.\u001b[39m_transform(dataset)\n\u001b[1;32m    261\u001b[0m     \u001b[38;5;28;01melse\u001b[39;00m:\n\u001b[0;32m--> 262\u001b[0m         \u001b[38;5;28;01mreturn\u001b[39;00m \u001b[38;5;28;43mself\u001b[39;49m\u001b[38;5;241;43m.\u001b[39;49m\u001b[43m_transform\u001b[49m\u001b[43m(\u001b[49m\u001b[43mdataset\u001b[49m\u001b[43m)\u001b[49m\n\u001b[1;32m    263\u001b[0m \u001b[38;5;28;01melse\u001b[39;00m:\n\u001b[1;32m    264\u001b[0m     \u001b[38;5;28;01mraise\u001b[39;00m \u001b[38;5;167;01mTypeError\u001b[39;00m(\u001b[38;5;124m\"\u001b[39m\u001b[38;5;124mParams must be a param map but got \u001b[39m\u001b[38;5;132;01m%s\u001b[39;00m\u001b[38;5;124m.\u001b[39m\u001b[38;5;124m\"\u001b[39m \u001b[38;5;241m%\u001b[39m \u001b[38;5;28mtype\u001b[39m(params))\n",
      "File \u001b[0;32m~/Documents/Cypher/Loan Risk Modeling/.venv/lib/python3.9/site-packages/pyspark/ml/wrapper.py:398\u001b[0m, in \u001b[0;36mJavaTransformer._transform\u001b[0;34m(self, dataset)\u001b[0m\n\u001b[1;32m    395\u001b[0m \u001b[38;5;28;01massert\u001b[39;00m \u001b[38;5;28mself\u001b[39m\u001b[38;5;241m.\u001b[39m_java_obj \u001b[38;5;129;01mis\u001b[39;00m \u001b[38;5;129;01mnot\u001b[39;00m \u001b[38;5;28;01mNone\u001b[39;00m\n\u001b[1;32m    397\u001b[0m \u001b[38;5;28mself\u001b[39m\u001b[38;5;241m.\u001b[39m_transfer_params_to_java()\n\u001b[0;32m--> 398\u001b[0m \u001b[38;5;28;01mreturn\u001b[39;00m DataFrame(\u001b[38;5;28;43mself\u001b[39;49m\u001b[38;5;241;43m.\u001b[39;49m\u001b[43m_java_obj\u001b[49m\u001b[38;5;241;43m.\u001b[39;49m\u001b[43mtransform\u001b[49m\u001b[43m(\u001b[49m\u001b[43mdataset\u001b[49m\u001b[38;5;241;43m.\u001b[39;49m\u001b[43m_jdf\u001b[49m\u001b[43m)\u001b[49m, dataset\u001b[38;5;241m.\u001b[39msparkSession)\n",
      "File \u001b[0;32m~/Documents/Cypher/Loan Risk Modeling/.venv/lib/python3.9/site-packages/py4j/java_gateway.py:1322\u001b[0m, in \u001b[0;36mJavaMember.__call__\u001b[0;34m(self, *args)\u001b[0m\n\u001b[1;32m   1316\u001b[0m command \u001b[38;5;241m=\u001b[39m proto\u001b[38;5;241m.\u001b[39mCALL_COMMAND_NAME \u001b[38;5;241m+\u001b[39m\\\n\u001b[1;32m   1317\u001b[0m     \u001b[38;5;28mself\u001b[39m\u001b[38;5;241m.\u001b[39mcommand_header \u001b[38;5;241m+\u001b[39m\\\n\u001b[1;32m   1318\u001b[0m     args_command \u001b[38;5;241m+\u001b[39m\\\n\u001b[1;32m   1319\u001b[0m     proto\u001b[38;5;241m.\u001b[39mEND_COMMAND_PART\n\u001b[1;32m   1321\u001b[0m answer \u001b[38;5;241m=\u001b[39m \u001b[38;5;28mself\u001b[39m\u001b[38;5;241m.\u001b[39mgateway_client\u001b[38;5;241m.\u001b[39msend_command(command)\n\u001b[0;32m-> 1322\u001b[0m return_value \u001b[38;5;241m=\u001b[39m \u001b[43mget_return_value\u001b[49m\u001b[43m(\u001b[49m\n\u001b[1;32m   1323\u001b[0m \u001b[43m    \u001b[49m\u001b[43manswer\u001b[49m\u001b[43m,\u001b[49m\u001b[43m \u001b[49m\u001b[38;5;28;43mself\u001b[39;49m\u001b[38;5;241;43m.\u001b[39;49m\u001b[43mgateway_client\u001b[49m\u001b[43m,\u001b[49m\u001b[43m \u001b[49m\u001b[38;5;28;43mself\u001b[39;49m\u001b[38;5;241;43m.\u001b[39;49m\u001b[43mtarget_id\u001b[49m\u001b[43m,\u001b[49m\u001b[43m \u001b[49m\u001b[38;5;28;43mself\u001b[39;49m\u001b[38;5;241;43m.\u001b[39;49m\u001b[43mname\u001b[49m\u001b[43m)\u001b[49m\n\u001b[1;32m   1325\u001b[0m \u001b[38;5;28;01mfor\u001b[39;00m temp_arg \u001b[38;5;129;01min\u001b[39;00m temp_args:\n\u001b[1;32m   1326\u001b[0m     \u001b[38;5;28;01mif\u001b[39;00m \u001b[38;5;28mhasattr\u001b[39m(temp_arg, \u001b[38;5;124m\"\u001b[39m\u001b[38;5;124m_detach\u001b[39m\u001b[38;5;124m\"\u001b[39m):\n",
      "File \u001b[0;32m~/Documents/Cypher/Loan Risk Modeling/.venv/lib/python3.9/site-packages/pyspark/errors/exceptions/captured.py:185\u001b[0m, in \u001b[0;36mcapture_sql_exception.<locals>.deco\u001b[0;34m(*a, **kw)\u001b[0m\n\u001b[1;32m    181\u001b[0m converted \u001b[38;5;241m=\u001b[39m convert_exception(e\u001b[38;5;241m.\u001b[39mjava_exception)\n\u001b[1;32m    182\u001b[0m \u001b[38;5;28;01mif\u001b[39;00m \u001b[38;5;129;01mnot\u001b[39;00m \u001b[38;5;28misinstance\u001b[39m(converted, UnknownException):\n\u001b[1;32m    183\u001b[0m     \u001b[38;5;66;03m# Hide where the exception came from that shows a non-Pythonic\u001b[39;00m\n\u001b[1;32m    184\u001b[0m     \u001b[38;5;66;03m# JVM exception message.\u001b[39;00m\n\u001b[0;32m--> 185\u001b[0m     \u001b[38;5;28;01mraise\u001b[39;00m converted \u001b[38;5;28;01mfrom\u001b[39;00m \u001b[38;5;28;01mNone\u001b[39;00m\n\u001b[1;32m    186\u001b[0m \u001b[38;5;28;01melse\u001b[39;00m:\n\u001b[1;32m    187\u001b[0m     \u001b[38;5;28;01mraise\u001b[39;00m\n",
      "\u001b[0;31mIllegalArgumentException\u001b[0m: Output column features_to_scale already exists."
     ]
    }
   ],
   "source": [
    "all_columns = df_downsampled.columns\n",
    "feature_cols = [col_name for col_name in all_columns if col_name != 'target']\n",
    "print(feature_cols)\n",
    "\n",
    "target = ['target']\n",
    "assembler = VectorAssembler(inputCols=feature_cols, outputCol=\"features_to_scale\")\n",
    "\n",
    "df_downsampled = assembler.transform(df_downsampled)\n",
    "\n",
    "df_downsampled\\\n",
    ".select('features_to_scale', 'target')\\\n",
    ".show(5)"
   ]
  },
  {
   "cell_type": "markdown",
   "id": "8d9b4f52",
   "metadata": {
    "papermill": {
     "duration": 0.031326,
     "end_time": "2024-09-21T13:31:06.243120",
     "exception": false,
     "start_time": "2024-09-21T13:31:06.211794",
     "status": "completed"
    },
    "tags": []
   },
   "source": [
    "# MinMaxScaler"
   ]
  },
  {
   "cell_type": "code",
   "execution_count": 33,
   "id": "35888fe8",
   "metadata": {
    "execution": {
     "iopub.execute_input": "2024-09-21T13:31:06.292009Z",
     "iopub.status.busy": "2024-09-21T13:31:06.291595Z",
     "iopub.status.idle": "2024-09-21T13:31:06.367432Z",
     "shell.execute_reply": "2024-09-21T13:31:06.366137Z"
    },
    "papermill": {
     "duration": 0.104168,
     "end_time": "2024-09-21T13:31:06.370945",
     "exception": false,
     "start_time": "2024-09-21T13:31:06.266777",
     "status": "completed"
    },
    "tags": []
   },
   "outputs": [],
   "source": [
    "train_data, temp_data = df_downsampled.randomSplit([0.8, 0.2], seed=42)\n",
    "test_data, val_data = temp_data.randomSplit([0.5, 0.5], seed=42)"
   ]
  },
  {
   "cell_type": "code",
   "execution_count": 34,
   "id": "8429eac6",
   "metadata": {
    "execution": {
     "iopub.execute_input": "2024-09-21T13:31:06.428442Z",
     "iopub.status.busy": "2024-09-21T13:31:06.427313Z",
     "iopub.status.idle": "2024-09-21T13:36:20.038100Z",
     "shell.execute_reply": "2024-09-21T13:36:20.037122Z"
    },
    "papermill": {
     "duration": 313.638915,
     "end_time": "2024-09-21T13:36:20.040794",
     "exception": false,
     "start_time": "2024-09-21T13:31:06.401879",
     "status": "completed"
    },
    "tags": []
   },
   "outputs": [
    {
     "name": "stderr",
     "output_type": "stream",
     "text": [
      "                                                                                \r"
     ]
    }
   ],
   "source": [
    "train_data = scale_features(train_data, \"features_to_scale\", \"features\")\n",
    "val_data = scale_features(val_data, \"features_to_scale\", \"features\")\n",
    "test_data = scale_features(test_data, \"features_to_scale\", \"features\")"
   ]
  },
  {
   "cell_type": "markdown",
   "id": "e7be658d",
   "metadata": {
    "papermill": {
     "duration": 0.024661,
     "end_time": "2024-09-21T13:36:20.090347",
     "exception": false,
     "start_time": "2024-09-21T13:36:20.065686",
     "status": "completed"
    },
    "tags": []
   },
   "source": [
    "# Models"
   ]
  },
  {
   "cell_type": "code",
   "execution_count": 35,
   "id": "0a3acb4f",
   "metadata": {
    "execution": {
     "iopub.execute_input": "2024-09-21T13:36:20.142464Z",
     "iopub.status.busy": "2024-09-21T13:36:20.141395Z",
     "iopub.status.idle": "2024-09-21T13:50:56.705268Z",
     "shell.execute_reply": "2024-09-21T13:50:56.704128Z"
    },
    "papermill": {
     "duration": 876.592606,
     "end_time": "2024-09-21T13:50:56.707757",
     "exception": false,
     "start_time": "2024-09-21T13:36:20.115151",
     "status": "completed"
    },
    "tags": []
   },
   "outputs": [
    {
     "name": "stderr",
     "output_type": "stream",
     "text": [
      "24/09/21 13:38:46 WARN InstanceBuilder: Failed to load implementation from:dev.ludovic.netlib.blas.JNIBLAS\n",
      "                                                                                \r"
     ]
    }
   ],
   "source": [
    "lr = LogisticRegression(featuresCol='features', labelCol='target')\n",
    "results_df_lr = evaluate_model(lr, 'LogisticRegression', train_data, val_data, test_data)"
   ]
  },
  {
   "cell_type": "code",
   "execution_count": 36,
   "id": "0b721305",
   "metadata": {
    "execution": {
     "iopub.execute_input": "2024-09-21T13:50:56.765858Z",
     "iopub.status.busy": "2024-09-21T13:50:56.765438Z",
     "iopub.status.idle": "2024-09-21T14:08:58.441740Z",
     "shell.execute_reply": "2024-09-21T14:08:58.440276Z"
    },
    "papermill": {
     "duration": 1081.708365,
     "end_time": "2024-09-21T14:08:58.444281",
     "exception": false,
     "start_time": "2024-09-21T13:50:56.735916",
     "status": "completed"
    },
    "tags": []
   },
   "outputs": [
    {
     "name": "stderr",
     "output_type": "stream",
     "text": [
      "                                                                                \r"
     ]
    }
   ],
   "source": [
    "rf = RandomForestClassifier(featuresCol = 'features', labelCol = 'target')\n",
    "results_df_rf = evaluate_model(rf, 'Random Forest', train_data, val_data, test_data)"
   ]
  },
  {
   "cell_type": "code",
   "execution_count": 37,
   "id": "b0dd540d",
   "metadata": {
    "execution": {
     "iopub.execute_input": "2024-09-21T14:08:58.511455Z",
     "iopub.status.busy": "2024-09-21T14:08:58.510466Z",
     "iopub.status.idle": "2024-09-21T14:27:41.279276Z",
     "shell.execute_reply": "2024-09-21T14:27:41.277850Z"
    },
    "papermill": {
     "duration": 1122.805141,
     "end_time": "2024-09-21T14:27:41.281981",
     "exception": false,
     "start_time": "2024-09-21T14:08:58.476840",
     "status": "completed"
    },
    "tags": []
   },
   "outputs": [
    {
     "name": "stderr",
     "output_type": "stream",
     "text": [
      "                                                                                \r"
     ]
    }
   ],
   "source": [
    "layers = [86, 64, 32, 3]\n",
    "mlp = MultilayerPerceptronClassifier(layers=layers, labelCol=\"target\", featuresCol=\"features\", maxIter=100, seed=123)\n",
    "results_df_mlp = evaluate_model(mlp, 'Neural Network', train_data, val_data, test_data)"
   ]
  },
  {
   "cell_type": "code",
   "execution_count": 38,
   "id": "f301310f",
   "metadata": {
    "execution": {
     "iopub.execute_input": "2024-09-21T14:27:41.385111Z",
     "iopub.status.busy": "2024-09-21T14:27:41.384653Z",
     "iopub.status.idle": "2024-09-21T14:27:41.401025Z",
     "shell.execute_reply": "2024-09-21T14:27:41.399968Z"
    },
    "papermill": {
     "duration": 0.070661,
     "end_time": "2024-09-21T14:27:41.403487",
     "exception": false,
     "start_time": "2024-09-21T14:27:41.332826",
     "status": "completed"
    },
    "tags": []
   },
   "outputs": [
    {
     "data": {
      "text/html": [
       "<div>\n",
       "<style scoped>\n",
       "    .dataframe tbody tr th:only-of-type {\n",
       "        vertical-align: middle;\n",
       "    }\n",
       "\n",
       "    .dataframe tbody tr th {\n",
       "        vertical-align: top;\n",
       "    }\n",
       "\n",
       "    .dataframe thead th {\n",
       "        text-align: right;\n",
       "    }\n",
       "</style>\n",
       "<table border=\"1\" class=\"dataframe\">\n",
       "  <thead>\n",
       "    <tr style=\"text-align: right;\">\n",
       "      <th></th>\n",
       "      <th>Model</th>\n",
       "      <th>Accuracy (Train)</th>\n",
       "      <th>F1 Score (Train)</th>\n",
       "      <th>Accuracy (Validation)</th>\n",
       "      <th>F1 Score (Validation)</th>\n",
       "      <th>Accuracy (Test)</th>\n",
       "      <th>F1 Score (Test)</th>\n",
       "    </tr>\n",
       "  </thead>\n",
       "  <tbody>\n",
       "    <tr>\n",
       "      <th>0</th>\n",
       "      <td>LogisticRegression</td>\n",
       "      <td>0.881</td>\n",
       "      <td>0.863</td>\n",
       "      <td>0.880</td>\n",
       "      <td>0.860</td>\n",
       "      <td>0.882</td>\n",
       "      <td>0.863</td>\n",
       "    </tr>\n",
       "    <tr>\n",
       "      <th>1</th>\n",
       "      <td>Random Forest</td>\n",
       "      <td>0.876</td>\n",
       "      <td>0.852</td>\n",
       "      <td>0.875</td>\n",
       "      <td>0.850</td>\n",
       "      <td>0.877</td>\n",
       "      <td>0.853</td>\n",
       "    </tr>\n",
       "    <tr>\n",
       "      <th>2</th>\n",
       "      <td>Neural Network</td>\n",
       "      <td>0.862</td>\n",
       "      <td>0.841</td>\n",
       "      <td>0.863</td>\n",
       "      <td>0.841</td>\n",
       "      <td>0.864</td>\n",
       "      <td>0.843</td>\n",
       "    </tr>\n",
       "  </tbody>\n",
       "</table>\n",
       "</div>"
      ],
      "text/plain": [
       "                Model  Accuracy (Train)  F1 Score (Train)  \\\n",
       "0  LogisticRegression             0.881             0.863   \n",
       "1       Random Forest             0.876             0.852   \n",
       "2      Neural Network             0.862             0.841   \n",
       "\n",
       "   Accuracy (Validation)  F1 Score (Validation)  Accuracy (Test)  \\\n",
       "0                  0.880                  0.860            0.882   \n",
       "1                  0.875                  0.850            0.877   \n",
       "2                  0.863                  0.841            0.864   \n",
       "\n",
       "   F1 Score (Test)  \n",
       "0            0.863  \n",
       "1            0.853  \n",
       "2            0.843  "
      ]
     },
     "execution_count": 38,
     "metadata": {},
     "output_type": "execute_result"
    }
   ],
   "source": [
    "final_results_df = pd.concat([results_df_lr, results_df_rf, results_df_mlp], ignore_index=True)\n",
    "final_results_df"
   ]
  }
 ],
 "metadata": {
  "kaggle": {
   "accelerator": "none",
   "dataSources": [
    {
     "datasetId": 902,
     "sourceId": 370089,
     "sourceType": "datasetVersion"
    }
   ],
   "isGpuEnabled": false,
   "isInternetEnabled": true,
   "language": "python",
   "sourceType": "notebook"
  },
  "kernelspec": {
   "display_name": "Python 3",
   "language": "python",
   "name": "python3"
  },
  "language_info": {
   "codemirror_mode": {
    "name": "ipython",
    "version": 3
   },
   "file_extension": ".py",
   "mimetype": "text/x-python",
   "name": "python",
   "nbconvert_exporter": "python",
   "pygments_lexer": "ipython3",
   "version": "3.9.6"
  },
  "papermill": {
   "default_parameters": {},
   "duration": 4398.209794,
   "end_time": "2024-09-21T14:27:44.076986",
   "environment_variables": {},
   "exception": null,
   "input_path": "__notebook__.ipynb",
   "output_path": "__notebook__.ipynb",
   "parameters": {},
   "start_time": "2024-09-21T13:14:25.867192",
   "version": "2.6.0"
  }
 },
 "nbformat": 4,
 "nbformat_minor": 5
}
